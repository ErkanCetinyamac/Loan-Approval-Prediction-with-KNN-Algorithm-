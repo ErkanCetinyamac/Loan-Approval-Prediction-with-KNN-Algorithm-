{
 "cells": [
  {
   "cell_type": "markdown",
   "metadata": {},
   "source": [
    "#  KNN ( K En Yakın Komşu)  Algoritması Uygulaması"
   ]
  },
  {
   "cell_type": "code",
   "execution_count": 1,
   "metadata": {},
   "outputs": [
    {
     "name": "stderr",
     "output_type": "stream",
     "text": [
      "\n",
      "Attaching package: 'dplyr'\n",
      "\n",
      "\n",
      "The following objects are masked from 'package:stats':\n",
      "\n",
      "    filter, lag\n",
      "\n",
      "\n",
      "The following objects are masked from 'package:base':\n",
      "\n",
      "    intersect, setdiff, setequal, union\n",
      "\n",
      "\n",
      "Loading required package: lattice\n",
      "\n",
      "\n",
      "Attaching package: 'caret'\n",
      "\n",
      "\n",
      "The following object is masked from 'package:purrr':\n",
      "\n",
      "    lift\n",
      "\n",
      "\n",
      "-- \u001b[1mAttaching packages\u001b[22m ------------------------------------------------------------------------------- tidyverse 1.3.0 --\n",
      "\n",
      "\u001b[32m<U+221A>\u001b[39m \u001b[34mtibble \u001b[39m 3.0.4     \u001b[32m<U+221A>\u001b[39m \u001b[34mstringr\u001b[39m 1.4.0\n",
      "\u001b[32m<U+221A>\u001b[39m \u001b[34mtidyr  \u001b[39m 1.1.2     \u001b[32m<U+221A>\u001b[39m \u001b[34mforcats\u001b[39m 0.5.0\n",
      "\n",
      "-- \u001b[1mConflicts\u001b[22m ---------------------------------------------------------------------------------- tidyverse_conflicts() --\n",
      "\u001b[31mx\u001b[39m \u001b[34mdplyr\u001b[39m::\u001b[32mfilter()\u001b[39m masks \u001b[34mstats\u001b[39m::filter()\n",
      "\u001b[31mx\u001b[39m \u001b[34mdplyr\u001b[39m::\u001b[32mlag()\u001b[39m    masks \u001b[34mstats\u001b[39m::lag()\n",
      "\u001b[31mx\u001b[39m \u001b[34mcaret\u001b[39m::\u001b[32mlift()\u001b[39m   masks \u001b[34mpurrr\u001b[39m::lift()\n",
      "\n",
      "Loading required package: Hmisc\n",
      "\n",
      "Loading required package: survival\n",
      "\n",
      "\n",
      "Attaching package: 'survival'\n",
      "\n",
      "\n",
      "The following object is masked from 'package:caret':\n",
      "\n",
      "    cluster\n",
      "\n",
      "\n",
      "Loading required package: Formula\n",
      "\n",
      "\n",
      "Attaching package: 'Hmisc'\n",
      "\n",
      "\n",
      "The following objects are masked from 'package:dplyr':\n",
      "\n",
      "    src, summarize\n",
      "\n",
      "\n",
      "The following objects are masked from 'package:base':\n",
      "\n",
      "    format.pval, units\n",
      "\n",
      "\n",
      "funModeling v.1.9.4 :)\n",
      "Examples and tutorials at livebook.datascienceheroes.com\n",
      " / Now in Spanish: librovivodecienciadedatos.ai\n",
      "\n",
      "\n",
      "Attaching package: 'Matrix'\n",
      "\n",
      "\n",
      "The following objects are masked from 'package:tidyr':\n",
      "\n",
      "    expand, pack, unpack\n",
      "\n",
      "\n",
      "\n",
      "Attaching package: 'kernlab'\n",
      "\n",
      "\n",
      "The following object is masked from 'package:purrr':\n",
      "\n",
      "    cross\n",
      "\n",
      "\n",
      "The following object is masked from 'package:ggplot2':\n",
      "\n",
      "    alpha\n",
      "\n",
      "\n",
      "Loading required package: xts\n",
      "\n",
      "Loading required package: zoo\n",
      "\n",
      "\n",
      "Attaching package: 'zoo'\n",
      "\n",
      "\n",
      "The following objects are masked from 'package:base':\n",
      "\n",
      "    as.Date, as.Date.numeric\n",
      "\n",
      "\n",
      "\n",
      "Attaching package: 'xts'\n",
      "\n",
      "\n",
      "The following objects are masked from 'package:dplyr':\n",
      "\n",
      "    first, last\n",
      "\n",
      "\n",
      "\n",
      "Attaching package: 'PerformanceAnalytics'\n",
      "\n",
      "\n",
      "The following object is masked from 'package:graphics':\n",
      "\n",
      "    legend\n",
      "\n",
      "\n",
      "\n",
      "Attaching package: 'FNN'\n",
      "\n",
      "\n",
      "The following objects are masked from 'package:class':\n",
      "\n",
      "    knn, knn.cv\n",
      "\n",
      "\n",
      "\n",
      "Attaching package: 'e1071'\n",
      "\n",
      "\n",
      "The following objects are masked from 'package:PerformanceAnalytics':\n",
      "\n",
      "    kurtosis, skewness\n",
      "\n",
      "\n",
      "The following object is masked from 'package:Hmisc':\n",
      "\n",
      "    impute\n",
      "\n",
      "\n",
      "Loading required package: grid\n",
      "\n",
      "Loading required package: libcoin\n",
      "\n",
      "Loading required package: mvtnorm\n",
      "\n",
      "randomForest 4.6-14\n",
      "\n",
      "Type rfNews() to see new features/changes/bug fixes.\n",
      "\n",
      "\n",
      "Attaching package: 'randomForest'\n",
      "\n",
      "\n",
      "The following object is masked from 'package:dplyr':\n",
      "\n",
      "    combine\n",
      "\n",
      "\n",
      "The following object is masked from 'package:ggplot2':\n",
      "\n",
      "    margin\n",
      "\n",
      "\n",
      "Loaded gbm 2.1.8\n",
      "\n",
      "\n",
      "Attaching package: 'neuralnet'\n",
      "\n",
      "\n",
      "The following object is masked from 'package:dplyr':\n",
      "\n",
      "    compute\n",
      "\n",
      "\n",
      "Registered S3 method overwritten by 'GGally':\n",
      "  method from   \n",
      "  +.gg   ggplot2\n",
      "\n",
      "\n",
      "Attaching package: 'GGally'\n",
      "\n",
      "\n",
      "The following object is masked from 'package:funModeling':\n",
      "\n",
      "    range01\n",
      "\n",
      "\n",
      "\n",
      "Attaching package: 'pls'\n",
      "\n",
      "\n",
      "The following object is masked from 'package:caret':\n",
      "\n",
      "    R2\n",
      "\n",
      "\n",
      "The following object is masked from 'package:stats':\n",
      "\n",
      "    loadings\n",
      "\n",
      "\n",
      "Loading required package: lars\n",
      "\n",
      "Loaded lars 1.2\n",
      "\n",
      "\n"
     ]
    }
   ],
   "source": [
    "library(class)\n",
    "library(readr)\n",
    "library(ggplot2)\n",
    "library(purrr)\n",
    "library(dplyr)\n",
    "library(caret)\n",
    "library(AppliedPredictiveModeling)\n",
    "library(tidyverse)\n",
    "library(ISLR)\n",
    "library(funModeling)\n",
    "library(Matrix) \n",
    "library(kernlab) \n",
    "library(PerformanceAnalytics)\n",
    "library(FNN)\n",
    "library(e1071)\n",
    "library(Hmisc)\n",
    "library(rpart) \n",
    "library(pgmm) \n",
    "library(dslabs)\n",
    "library(rpart.plot) \n",
    "library(partykit) \n",
    "library(ipred) \n",
    "library(randomForest)\n",
    "library(gbm)\n",
    "library(nnet)\n",
    "library(neuralnet)\n",
    "library(GGally)\n",
    "library(NeuralNetTools) \n",
    "library(AppliedPredictiveModeling)\n",
    "library(pls) \n",
    "library(elasticnet)\n",
    "library(broom)\n",
    "library(shiny)\n",
    "library(caTools)\n",
    "library(lattice)"
   ]
  },
  {
   "cell_type": "markdown",
   "metadata": {},
   "source": [
    "**Universal Bank Data Setini yüklüyoruz.**"
   ]
  },
  {
   "cell_type": "code",
   "execution_count": 2,
   "metadata": {},
   "outputs": [
    {
     "name": "stderr",
     "output_type": "stream",
     "text": [
      "\n",
      "\u001b[36m--\u001b[39m \u001b[1m\u001b[1mColumn specification\u001b[1m\u001b[22m \u001b[36m------------------------------------------------------------------------------------------------\u001b[39m\n",
      "cols(\n",
      "  ID = \u001b[32mcol_double()\u001b[39m,\n",
      "  Age = \u001b[32mcol_double()\u001b[39m,\n",
      "  Experience = \u001b[32mcol_double()\u001b[39m,\n",
      "  Income = \u001b[32mcol_double()\u001b[39m,\n",
      "  `ZIP Code` = \u001b[32mcol_double()\u001b[39m,\n",
      "  Family = \u001b[32mcol_double()\u001b[39m,\n",
      "  CCAvg = \u001b[32mcol_double()\u001b[39m,\n",
      "  Education = \u001b[32mcol_double()\u001b[39m,\n",
      "  Mortgage = \u001b[32mcol_double()\u001b[39m,\n",
      "  `Personal Loan` = \u001b[32mcol_double()\u001b[39m,\n",
      "  `Securities Account` = \u001b[32mcol_double()\u001b[39m,\n",
      "  `CD Account` = \u001b[32mcol_double()\u001b[39m,\n",
      "  Online = \u001b[32mcol_double()\u001b[39m,\n",
      "  CreditCard = \u001b[32mcol_double()\u001b[39m\n",
      ")\n",
      "\n",
      "\n"
     ]
    }
   ],
   "source": [
    "setwd(\"C:/Users/eceti/Desktop\")\n",
    "\n",
    "df<- read_csv(\"UniversalBank.csv\")"
   ]
  },
  {
   "cell_type": "markdown",
   "metadata": {},
   "source": [
    "# Veriyi Tanıtımı"
   ]
  },
  {
   "cell_type": "code",
   "execution_count": 3,
   "metadata": {},
   "outputs": [
    {
     "data": {
      "text/html": [
       "<style>\n",
       ".list-inline {list-style: none; margin:0; padding: 0}\n",
       ".list-inline>li {display: inline-block}\n",
       ".list-inline>li:not(:last-child)::after {content: \"\\00b7\"; padding: 0 .5ex}\n",
       "</style>\n",
       "<ol class=list-inline><li>'ID'</li><li>'Age'</li><li>'Experience'</li><li>'Income'</li><li>'ZIP Code'</li><li>'Family'</li><li>'CCAvg'</li><li>'Education'</li><li>'Mortgage'</li><li>'Personal Loan'</li><li>'Securities Account'</li><li>'CD Account'</li><li>'Online'</li><li>'CreditCard'</li></ol>\n"
      ],
      "text/latex": [
       "\\begin{enumerate*}\n",
       "\\item 'ID'\n",
       "\\item 'Age'\n",
       "\\item 'Experience'\n",
       "\\item 'Income'\n",
       "\\item 'ZIP Code'\n",
       "\\item 'Family'\n",
       "\\item 'CCAvg'\n",
       "\\item 'Education'\n",
       "\\item 'Mortgage'\n",
       "\\item 'Personal Loan'\n",
       "\\item 'Securities Account'\n",
       "\\item 'CD Account'\n",
       "\\item 'Online'\n",
       "\\item 'CreditCard'\n",
       "\\end{enumerate*}\n"
      ],
      "text/markdown": [
       "1. 'ID'\n",
       "2. 'Age'\n",
       "3. 'Experience'\n",
       "4. 'Income'\n",
       "5. 'ZIP Code'\n",
       "6. 'Family'\n",
       "7. 'CCAvg'\n",
       "8. 'Education'\n",
       "9. 'Mortgage'\n",
       "10. 'Personal Loan'\n",
       "11. 'Securities Account'\n",
       "12. 'CD Account'\n",
       "13. 'Online'\n",
       "14. 'CreditCard'\n",
       "\n",
       "\n"
      ],
      "text/plain": [
       " [1] \"ID\"                 \"Age\"                \"Experience\"        \n",
       " [4] \"Income\"             \"ZIP Code\"           \"Family\"            \n",
       " [7] \"CCAvg\"              \"Education\"          \"Mortgage\"          \n",
       "[10] \"Personal Loan\"      \"Securities Account\" \"CD Account\"        \n",
       "[13] \"Online\"             \"CreditCard\"        "
      ]
     },
     "metadata": {},
     "output_type": "display_data"
    },
    {
     "name": "stdout",
     "output_type": "stream",
     "text": [
      "tibble [5,000 x 14] (S3: spec_tbl_df/tbl_df/tbl/data.frame)\n",
      " $ ID                : num [1:5000] 1 2 3 4 5 6 7 8 9 10 ...\n",
      " $ Age               : num [1:5000] 25 45 39 35 35 37 53 50 35 34 ...\n",
      " $ Experience        : num [1:5000] 1 19 15 9 8 13 27 24 10 9 ...\n",
      " $ Income            : num [1:5000] 49 34 11 100 45 29 72 22 81 180 ...\n",
      " $ ZIP Code          : num [1:5000] 91107 90089 94720 94112 91330 ...\n",
      " $ Family            : num [1:5000] 4 3 1 1 4 4 2 1 3 1 ...\n",
      " $ CCAvg             : num [1:5000] 1.6 1.5 1 2.7 1 0.4 1.5 0.3 0.6 8.9 ...\n",
      " $ Education         : num [1:5000] 1 1 1 2 2 2 2 3 2 3 ...\n",
      " $ Mortgage          : num [1:5000] 0 0 0 0 0 155 0 0 104 0 ...\n",
      " $ Personal Loan     : num [1:5000] 0 0 0 0 0 0 0 0 0 1 ...\n",
      " $ Securities Account: num [1:5000] 1 1 0 0 0 0 0 0 0 0 ...\n",
      " $ CD Account        : num [1:5000] 0 0 0 0 0 0 0 0 0 0 ...\n",
      " $ Online            : num [1:5000] 0 0 0 0 0 1 1 0 1 0 ...\n",
      " $ CreditCard        : num [1:5000] 0 0 0 0 1 0 0 1 0 0 ...\n",
      " - attr(*, \"spec\")=\n",
      "  .. cols(\n",
      "  ..   ID = \u001b[32mcol_double()\u001b[39m,\n",
      "  ..   Age = \u001b[32mcol_double()\u001b[39m,\n",
      "  ..   Experience = \u001b[32mcol_double()\u001b[39m,\n",
      "  ..   Income = \u001b[32mcol_double()\u001b[39m,\n",
      "  ..   `ZIP Code` = \u001b[32mcol_double()\u001b[39m,\n",
      "  ..   Family = \u001b[32mcol_double()\u001b[39m,\n",
      "  ..   CCAvg = \u001b[32mcol_double()\u001b[39m,\n",
      "  ..   Education = \u001b[32mcol_double()\u001b[39m,\n",
      "  ..   Mortgage = \u001b[32mcol_double()\u001b[39m,\n",
      "  ..   `Personal Loan` = \u001b[32mcol_double()\u001b[39m,\n",
      "  ..   `Securities Account` = \u001b[32mcol_double()\u001b[39m,\n",
      "  ..   `CD Account` = \u001b[32mcol_double()\u001b[39m,\n",
      "  ..   Online = \u001b[32mcol_double()\u001b[39m,\n",
      "  ..   CreditCard = \u001b[32mcol_double()\u001b[39m\n",
      "  .. )\n"
     ]
    }
   ],
   "source": [
    "colnames(df)  # Verinin Etiketleri\n",
    "\n",
    "str(df)"
   ]
  },
  {
   "cell_type": "code",
   "execution_count": 4,
   "metadata": {},
   "outputs": [
    {
     "data": {
      "text/html": [
       "<style>\n",
       ".dl-inline {width: auto; margin:0; padding: 0}\n",
       ".dl-inline>dt, .dl-inline>dd {float: none; width: auto; display: inline-block}\n",
       ".dl-inline>dt::after {content: \":\\0020\"; padding-right: .5ex}\n",
       ".dl-inline>dt:not(:first-of-type) {padding-left: .5ex}\n",
       "</style><dl class=dl-inline><dt>ID</dt><dd>0</dd><dt>Age</dt><dd>0</dd><dt>Experience</dt><dd>0</dd><dt>Income</dt><dd>0</dd><dt>ZIP Code</dt><dd>0</dd><dt>Family</dt><dd>0</dd><dt>CCAvg</dt><dd>0</dd><dt>Education</dt><dd>0</dd><dt>Mortgage</dt><dd>0</dd><dt>Personal Loan</dt><dd>0</dd><dt>Securities Account</dt><dd>0</dd><dt>CD Account</dt><dd>0</dd><dt>Online</dt><dd>0</dd><dt>CreditCard</dt><dd>0</dd></dl>\n"
      ],
      "text/latex": [
       "\\begin{description*}\n",
       "\\item[ID] 0\n",
       "\\item[Age] 0\n",
       "\\item[Experience] 0\n",
       "\\item[Income] 0\n",
       "\\item[ZIP Code] 0\n",
       "\\item[Family] 0\n",
       "\\item[CCAvg] 0\n",
       "\\item[Education] 0\n",
       "\\item[Mortgage] 0\n",
       "\\item[Personal Loan] 0\n",
       "\\item[Securities Account] 0\n",
       "\\item[CD Account] 0\n",
       "\\item[Online] 0\n",
       "\\item[CreditCard] 0\n",
       "\\end{description*}\n"
      ],
      "text/markdown": [
       "ID\n",
       ":   0Age\n",
       ":   0Experience\n",
       ":   0Income\n",
       ":   0ZIP Code\n",
       ":   0Family\n",
       ":   0CCAvg\n",
       ":   0Education\n",
       ":   0Mortgage\n",
       ":   0Personal Loan\n",
       ":   0Securities Account\n",
       ":   0CD Account\n",
       ":   0Online\n",
       ":   0CreditCard\n",
       ":   0\n",
       "\n"
      ],
      "text/plain": [
       "                ID                Age         Experience             Income \n",
       "                 0                  0                  0                  0 \n",
       "          ZIP Code             Family              CCAvg          Education \n",
       "                 0                  0                  0                  0 \n",
       "          Mortgage      Personal Loan Securities Account         CD Account \n",
       "                 0                  0                  0                  0 \n",
       "            Online         CreditCard \n",
       "                 0                  0 "
      ]
     },
     "metadata": {},
     "output_type": "display_data"
    }
   ],
   "source": [
    "colSums(is.na(df)) # Veride eksik değer var mı ?"
   ]
  },
  {
   "cell_type": "code",
   "execution_count": 5,
   "metadata": {},
   "outputs": [],
   "source": [
    "names(df)[names(df) == \"Personal Loan\"] <- \"Personal_Loan\"\n",
    "names(df)[names(df) == \"Securities Account\"] <- \"Securities_Account\" \n",
    "names(df)[names(df) == \"CD Account\"] <- \"CD_Account\""
   ]
  },
  {
   "cell_type": "markdown",
   "metadata": {},
   "source": [
    "**Modelde kullanılacak değişkenleri orjinal dataframeden çekip yeni bir dataframe oluşturuyoruz.**"
   ]
  },
  {
   "cell_type": "code",
   "execution_count": 6,
   "metadata": {},
   "outputs": [],
   "source": [
    "df_subset <- df[c(\"Personal_Loan\",\"Age\",\"Experience\",\"Income\",\"Family\",\"Mortgage\",\"CCAvg\",\"CD_Account\",\"Education\",\"CreditCard\",\"Securities_Account\")]"
   ]
  },
  {
   "cell_type": "markdown",
   "metadata": {},
   "source": [
    "**Tahmin edeceğimiz bağımlı değişken olan Personal_Loan'ı factor formatına dönüştürüyoruz.**"
   ]
  },
  {
   "cell_type": "code",
   "execution_count": 7,
   "metadata": {},
   "outputs": [],
   "source": [
    "df_subset$Personal_Loan<-factor(df_subset$Personal_Loan,levels=unique(df_subset$Personal_Loan),labels = seq(0, 1)) # "
   ]
  },
  {
   "cell_type": "code",
   "execution_count": 8,
   "metadata": {},
   "outputs": [
    {
     "name": "stdout",
     "output_type": "stream",
     "text": [
      "Rows: 5,000\n",
      "Columns: 11\n",
      "$ Personal_Loan      \u001b[3m\u001b[90m<fct>\u001b[39m\u001b[23m 0, 0, 0, 0, 0, 0, 0, 0, 0, 1, 0, 0, 0, 0, 0, 0, ...\n",
      "$ Age                \u001b[3m\u001b[90m<dbl>\u001b[39m\u001b[23m 25, 45, 39, 35, 35, 37, 53, 50, 35, 34, 65, 29, ...\n",
      "$ Experience         \u001b[3m\u001b[90m<dbl>\u001b[39m\u001b[23m 1, 19, 15, 9, 8, 13, 27, 24, 10, 9, 39, 5, 23, 3...\n",
      "$ Income             \u001b[3m\u001b[90m<dbl>\u001b[39m\u001b[23m 49, 34, 11, 100, 45, 29, 72, 22, 81, 180, 105, 4...\n",
      "$ Family             \u001b[3m\u001b[90m<dbl>\u001b[39m\u001b[23m 4, 3, 1, 1, 4, 4, 2, 1, 3, 1, 4, 3, 2, 4, 1, 1, ...\n",
      "$ Mortgage           \u001b[3m\u001b[90m<dbl>\u001b[39m\u001b[23m 0, 0, 0, 0, 0, 155, 0, 0, 104, 0, 0, 0, 0, 0, 0,...\n",
      "$ CCAvg              \u001b[3m\u001b[90m<dbl>\u001b[39m\u001b[23m 1.6, 1.5, 1.0, 2.7, 1.0, 0.4, 1.5, 0.3, 0.6, 8.9...\n",
      "$ CD_Account         \u001b[3m\u001b[90m<dbl>\u001b[39m\u001b[23m 0, 0, 0, 0, 0, 0, 0, 0, 0, 0, 0, 0, 0, 0, 0, 0, ...\n",
      "$ Education          \u001b[3m\u001b[90m<dbl>\u001b[39m\u001b[23m 1, 1, 1, 2, 2, 2, 2, 3, 2, 3, 3, 2, 3, 2, 1, 3, ...\n",
      "$ CreditCard         \u001b[3m\u001b[90m<dbl>\u001b[39m\u001b[23m 0, 0, 0, 0, 1, 0, 0, 1, 0, 0, 0, 0, 0, 0, 0, 1, ...\n",
      "$ Securities_Account \u001b[3m\u001b[90m<dbl>\u001b[39m\u001b[23m 1, 1, 0, 0, 0, 0, 0, 0, 0, 0, 0, 0, 1, 0, 1, 0, ...\n"
     ]
    },
    {
     "data": {
      "text/html": [
       "<table>\n",
       "<caption>A tibble: 6 × 11</caption>\n",
       "<thead>\n",
       "\t<tr><th scope=col>Personal_Loan</th><th scope=col>Age</th><th scope=col>Experience</th><th scope=col>Income</th><th scope=col>Family</th><th scope=col>Mortgage</th><th scope=col>CCAvg</th><th scope=col>CD_Account</th><th scope=col>Education</th><th scope=col>CreditCard</th><th scope=col>Securities_Account</th></tr>\n",
       "\t<tr><th scope=col>&lt;fct&gt;</th><th scope=col>&lt;dbl&gt;</th><th scope=col>&lt;dbl&gt;</th><th scope=col>&lt;dbl&gt;</th><th scope=col>&lt;dbl&gt;</th><th scope=col>&lt;dbl&gt;</th><th scope=col>&lt;dbl&gt;</th><th scope=col>&lt;dbl&gt;</th><th scope=col>&lt;dbl&gt;</th><th scope=col>&lt;dbl&gt;</th><th scope=col>&lt;dbl&gt;</th></tr>\n",
       "</thead>\n",
       "<tbody>\n",
       "\t<tr><td>0</td><td>25</td><td> 1</td><td> 49</td><td>4</td><td>  0</td><td>1.6</td><td>0</td><td>1</td><td>0</td><td>1</td></tr>\n",
       "\t<tr><td>0</td><td>45</td><td>19</td><td> 34</td><td>3</td><td>  0</td><td>1.5</td><td>0</td><td>1</td><td>0</td><td>1</td></tr>\n",
       "\t<tr><td>0</td><td>39</td><td>15</td><td> 11</td><td>1</td><td>  0</td><td>1.0</td><td>0</td><td>1</td><td>0</td><td>0</td></tr>\n",
       "\t<tr><td>0</td><td>35</td><td> 9</td><td>100</td><td>1</td><td>  0</td><td>2.7</td><td>0</td><td>2</td><td>0</td><td>0</td></tr>\n",
       "\t<tr><td>0</td><td>35</td><td> 8</td><td> 45</td><td>4</td><td>  0</td><td>1.0</td><td>0</td><td>2</td><td>1</td><td>0</td></tr>\n",
       "\t<tr><td>0</td><td>37</td><td>13</td><td> 29</td><td>4</td><td>155</td><td>0.4</td><td>0</td><td>2</td><td>0</td><td>0</td></tr>\n",
       "</tbody>\n",
       "</table>\n"
      ],
      "text/latex": [
       "A tibble: 6 × 11\n",
       "\\begin{tabular}{lllllllllll}\n",
       " Personal\\_Loan & Age & Experience & Income & Family & Mortgage & CCAvg & CD\\_Account & Education & CreditCard & Securities\\_Account\\\\\n",
       " <fct> & <dbl> & <dbl> & <dbl> & <dbl> & <dbl> & <dbl> & <dbl> & <dbl> & <dbl> & <dbl>\\\\\n",
       "\\hline\n",
       "\t 0 & 25 &  1 &  49 & 4 &   0 & 1.6 & 0 & 1 & 0 & 1\\\\\n",
       "\t 0 & 45 & 19 &  34 & 3 &   0 & 1.5 & 0 & 1 & 0 & 1\\\\\n",
       "\t 0 & 39 & 15 &  11 & 1 &   0 & 1.0 & 0 & 1 & 0 & 0\\\\\n",
       "\t 0 & 35 &  9 & 100 & 1 &   0 & 2.7 & 0 & 2 & 0 & 0\\\\\n",
       "\t 0 & 35 &  8 &  45 & 4 &   0 & 1.0 & 0 & 2 & 1 & 0\\\\\n",
       "\t 0 & 37 & 13 &  29 & 4 & 155 & 0.4 & 0 & 2 & 0 & 0\\\\\n",
       "\\end{tabular}\n"
      ],
      "text/markdown": [
       "\n",
       "A tibble: 6 × 11\n",
       "\n",
       "| Personal_Loan &lt;fct&gt; | Age &lt;dbl&gt; | Experience &lt;dbl&gt; | Income &lt;dbl&gt; | Family &lt;dbl&gt; | Mortgage &lt;dbl&gt; | CCAvg &lt;dbl&gt; | CD_Account &lt;dbl&gt; | Education &lt;dbl&gt; | CreditCard &lt;dbl&gt; | Securities_Account &lt;dbl&gt; |\n",
       "|---|---|---|---|---|---|---|---|---|---|---|\n",
       "| 0 | 25 |  1 |  49 | 4 |   0 | 1.6 | 0 | 1 | 0 | 1 |\n",
       "| 0 | 45 | 19 |  34 | 3 |   0 | 1.5 | 0 | 1 | 0 | 1 |\n",
       "| 0 | 39 | 15 |  11 | 1 |   0 | 1.0 | 0 | 1 | 0 | 0 |\n",
       "| 0 | 35 |  9 | 100 | 1 |   0 | 2.7 | 0 | 2 | 0 | 0 |\n",
       "| 0 | 35 |  8 |  45 | 4 |   0 | 1.0 | 0 | 2 | 1 | 0 |\n",
       "| 0 | 37 | 13 |  29 | 4 | 155 | 0.4 | 0 | 2 | 0 | 0 |\n",
       "\n"
      ],
      "text/plain": [
       "  Personal_Loan Age Experience Income Family Mortgage CCAvg CD_Account\n",
       "1 0             25   1          49    4        0      1.6   0         \n",
       "2 0             45  19          34    3        0      1.5   0         \n",
       "3 0             39  15          11    1        0      1.0   0         \n",
       "4 0             35   9         100    1        0      2.7   0         \n",
       "5 0             35   8          45    4        0      1.0   0         \n",
       "6 0             37  13          29    4      155      0.4   0         \n",
       "  Education CreditCard Securities_Account\n",
       "1 1         0          1                 \n",
       "2 1         0          1                 \n",
       "3 1         0          0                 \n",
       "4 2         0          0                 \n",
       "5 2         1          0                 \n",
       "6 2         0          0                 "
      ]
     },
     "metadata": {},
     "output_type": "display_data"
    },
    {
     "data": {
      "text/plain": [
       " Personal_Loan      Age          Experience       Income           Family     \n",
       " 0:4520        Min.   :23.00   Min.   :-3.0   Min.   :  8.00   Min.   :1.000  \n",
       " 1: 480        1st Qu.:35.00   1st Qu.:10.0   1st Qu.: 39.00   1st Qu.:1.000  \n",
       "               Median :45.00   Median :20.0   Median : 64.00   Median :2.000  \n",
       "               Mean   :45.34   Mean   :20.1   Mean   : 73.77   Mean   :2.396  \n",
       "               3rd Qu.:55.00   3rd Qu.:30.0   3rd Qu.: 98.00   3rd Qu.:3.000  \n",
       "               Max.   :67.00   Max.   :43.0   Max.   :224.00   Max.   :4.000  \n",
       "    Mortgage         CCAvg          CD_Account       Education    \n",
       " Min.   :  0.0   Min.   : 0.000   Min.   :0.0000   Min.   :1.000  \n",
       " 1st Qu.:  0.0   1st Qu.: 0.700   1st Qu.:0.0000   1st Qu.:1.000  \n",
       " Median :  0.0   Median : 1.500   Median :0.0000   Median :2.000  \n",
       " Mean   : 56.5   Mean   : 1.938   Mean   :0.0604   Mean   :1.881  \n",
       " 3rd Qu.:101.0   3rd Qu.: 2.500   3rd Qu.:0.0000   3rd Qu.:3.000  \n",
       " Max.   :635.0   Max.   :10.000   Max.   :1.0000   Max.   :3.000  \n",
       "   CreditCard    Securities_Account\n",
       " Min.   :0.000   Min.   :0.0000    \n",
       " 1st Qu.:0.000   1st Qu.:0.0000    \n",
       " Median :0.000   Median :0.0000    \n",
       " Mean   :0.294   Mean   :0.1044    \n",
       " 3rd Qu.:1.000   3rd Qu.:0.0000    \n",
       " Max.   :1.000   Max.   :1.0000    "
      ]
     },
     "metadata": {},
     "output_type": "display_data"
    }
   ],
   "source": [
    "glimpse(df_subset)    # veri setine genel bakış\n",
    "\n",
    "head(df_subset)      # Verinin ilk satırları   \n",
    "\n",
    "summary(df_subset)  # Verinin istatistiksel özellikleri"
   ]
  },
  {
   "cell_type": "markdown",
   "metadata": {},
   "source": [
    "# Verinin Görselleştirilmesi"
   ]
  },
  {
   "cell_type": "code",
   "execution_count": 9,
   "metadata": {},
   "outputs": [
    {
     "data": {
      "image/png": "[encoded data removed]",
      "text/plain": [
       "plot without title"
      ]
     },
     "metadata": {
      "image/png": {
       "height": 420,
       "width": 420
      }
     },
     "output_type": "display_data"
    }
   ],
   "source": [
    "plot_num(df_subset)  # numerik değişkenlerin görselleştirilmesi\n",
    "\n"
   ]
  },
  {
   "cell_type": "code",
   "execution_count": 10,
   "metadata": {},
   "outputs": [
    {
     "data": {
      "text/html": [
       "<table>\n",
       "<caption>A data.frame: 2 × 4</caption>\n",
       "<thead>\n",
       "\t<tr><th scope=col>Personal_Loan</th><th scope=col>frequency</th><th scope=col>percentage</th><th scope=col>cumulative_perc</th></tr>\n",
       "\t<tr><th scope=col>&lt;chr&gt;</th><th scope=col>&lt;int&gt;</th><th scope=col>&lt;dbl&gt;</th><th scope=col>&lt;dbl&gt;</th></tr>\n",
       "</thead>\n",
       "<tbody>\n",
       "\t<tr><td>0</td><td>4520</td><td>90.4</td><td> 90.4</td></tr>\n",
       "\t<tr><td>1</td><td> 480</td><td> 9.6</td><td>100.0</td></tr>\n",
       "</tbody>\n",
       "</table>\n"
      ],
      "text/latex": [
       "A data.frame: 2 × 4\n",
       "\\begin{tabular}{llll}\n",
       " Personal\\_Loan & frequency & percentage & cumulative\\_perc\\\\\n",
       " <chr> & <int> & <dbl> & <dbl>\\\\\n",
       "\\hline\n",
       "\t 0 & 4520 & 90.4 &  90.4\\\\\n",
       "\t 1 &  480 &  9.6 & 100.0\\\\\n",
       "\\end{tabular}\n"
      ],
      "text/markdown": [
       "\n",
       "A data.frame: 2 × 4\n",
       "\n",
       "| Personal_Loan &lt;chr&gt; | frequency &lt;int&gt; | percentage &lt;dbl&gt; | cumulative_perc &lt;dbl&gt; |\n",
       "|---|---|---|---|\n",
       "| 0 | 4520 | 90.4 |  90.4 |\n",
       "| 1 |  480 |  9.6 | 100.0 |\n",
       "\n"
      ],
      "text/plain": [
       "  Personal_Loan frequency percentage cumulative_perc\n",
       "1 0             4520      90.4        90.4          \n",
       "2 1              480       9.6       100.0          "
      ]
     },
     "metadata": {},
     "output_type": "display_data"
    },
    {
     "data": {
      "image/png": "[encoded data removed]",
      "text/plain": [
       "plot without title"
      ]
     },
     "metadata": {
      "image/png": {
       "height": 420,
       "width": 420
      }
     },
     "output_type": "display_data"
    }
   ],
   "source": [
    "freq(df_subset)  # kategorik değişkenlerin görselleştirilmesi\n"
   ]
  },
  {
   "cell_type": "markdown",
   "metadata": {},
   "source": [
    "# Veri setini Train ve  Test olarak bölüyoruz.\n",
    "\n"
   ]
  },
  {
   "cell_type": "code",
   "execution_count": 11,
   "metadata": {},
   "outputs": [
    {
     "name": "stderr",
     "output_type": "stream",
     "text": [
      "Warning message:\n",
      "\"The `i` argument of ``[`()` can't be a matrix as of tibble 3.0.0.\n",
      "Convert to a vector.\n",
      "\u001b[90mThis warning is displayed once every 8 hours.\u001b[39m\n",
      "\u001b[90mCall `lifecycle::last_warnings()` to see where this warning was generated.\u001b[39m\"\n"
     ]
    }
   ],
   "source": [
    "set.seed(13)\n",
    "\n",
    "\n",
    "train_index<-createDataPartition(df_subset$Personal_Loan, p=0.7,list=FALSE,times=1)  #caret\n",
    "\n",
    "train<-df_subset[train_index,]\n",
    "test<-df_subset[-train_index,]\n",
    "\n",
    "\n",
    "              \n",
    "train_x<-train %>% dplyr::select(-Personal_Loan)\n",
    "train_y<-train$Personal_Loan\n",
    "\n",
    "test_x<- test %>%  dplyr::select(-Personal_Loan)\n",
    "test_y<- test$Personal_Loan\n",
    "\n",
    "training<-data.frame(train_x,Personal_Loan<-train_y) #yedekleme"
   ]
  },
  {
   "cell_type": "markdown",
   "metadata": {},
   "source": [
    "**KNN için model oluşturuyoruz.**"
   ]
  },
  {
   "cell_type": "code",
   "execution_count": 12,
   "metadata": {},
   "outputs": [],
   "source": [
    "\n",
    "knn_train<-train\n",
    "knn_test<-test\n",
    "\n",
    "knn_train<-knn_train %>% select(-Personal_Loan)\n",
    "knn_test<-knn_test %>% select(-Personal_Loan)\n",
    "\n",
    "knn_fit<- knn(train=knn_train,test=knn_test, cl=train_y, k= 10)  #library(FNN)"
   ]
  },
  {
   "cell_type": "markdown",
   "metadata": {},
   "source": [
    "# Modelin Tutarlılığının kontrolü ve Confusion Matrix"
   ]
  },
  {
   "cell_type": "code",
   "execution_count": 13,
   "metadata": {},
   "outputs": [
    {
     "data": {
      "text/plain": [
       "Confusion Matrix and Statistics\n",
       "\n",
       "       test_y\n",
       "knn_fit    0    1\n",
       "      0 1330  113\n",
       "      1   26   31\n",
       "                                          \n",
       "               Accuracy : 0.9073          \n",
       "                 95% CI : (0.8915, 0.9215)\n",
       "    No Information Rate : 0.904           \n",
       "    P-Value [Acc > NIR] : 0.3503          \n",
       "                                          \n",
       "                  Kappa : 0.2686          \n",
       "                                          \n",
       " Mcnemar's Test P-Value : 2.999e-13       \n",
       "                                          \n",
       "            Sensitivity : 0.9808          \n",
       "            Specificity : 0.2153          \n",
       "         Pos Pred Value : 0.9217          \n",
       "         Neg Pred Value : 0.5439          \n",
       "             Prevalence : 0.9040          \n",
       "         Detection Rate : 0.8867          \n",
       "   Detection Prevalence : 0.9620          \n",
       "      Balanced Accuracy : 0.5981          \n",
       "                                          \n",
       "       'Positive' Class : 0               \n",
       "                                          "
      ]
     },
     "metadata": {},
     "output_type": "display_data"
    }
   ],
   "source": [
    "confusionMatrix(table(knn_fit ,test_y))"
   ]
  },
  {
   "cell_type": "markdown",
   "metadata": {},
   "source": [
    "# Model Tuning"
   ]
  },
  {
   "cell_type": "code",
   "execution_count": 14,
   "metadata": {},
   "outputs": [
    {
     "data": {
      "text/plain": [
       "5-nearest neighbor model\n",
       "Training set outcome distribution:\n",
       "\n",
       "   0    1 \n",
       "3164  336 \n"
      ]
     },
     "metadata": {},
     "output_type": "display_data"
    },
    {
     "data": {
      "text/html": [
       "<table>\n",
       "<caption>A data.frame: 1 × 1</caption>\n",
       "<thead>\n",
       "\t<tr><th></th><th scope=col>k</th></tr>\n",
       "\t<tr><th></th><th scope=col>&lt;int&gt;</th></tr>\n",
       "</thead>\n",
       "<tbody>\n",
       "\t<tr><th scope=row>1</th><td>5</td></tr>\n",
       "</tbody>\n",
       "</table>\n"
      ],
      "text/latex": [
       "A data.frame: 1 × 1\n",
       "\\begin{tabular}{r|l}\n",
       "  & k\\\\\n",
       "  & <int>\\\\\n",
       "\\hline\n",
       "\t1 & 5\\\\\n",
       "\\end{tabular}\n"
      ],
      "text/markdown": [
       "\n",
       "A data.frame: 1 × 1\n",
       "\n",
       "| <!--/--> | k &lt;int&gt; |\n",
       "|---|---|\n",
       "| 1 | 5 |\n",
       "\n"
      ],
      "text/plain": [
       "  k\n",
       "1 5"
      ]
     },
     "metadata": {},
     "output_type": "display_data"
    },
    {
     "data": {
      "image/png": "[encoded data removed]",
      "text/plain": [
       "plot without title"
      ]
     },
     "metadata": {
      "image/png": {
       "height": 420,
       "width": 420
      }
     },
     "output_type": "display_data"
    }
   ],
   "source": [
    "\n",
    "set.seed(123)\n",
    "\n",
    "KNN__TUNE <- train(\n",
    "  Personal_Loan ~., data = train, method = \"knn\",\n",
    "  trControl = trainControl(\"cv\", number = 10),\n",
    "  preProcess = c(\"center\",\"scale\"),\n",
    "  tuneLength = 20\n",
    "  )\n",
    "\n",
    "# Plot model accuracy vs k nın farklı değerleri\n",
    "\n",
    "plot(KNN__TUNE )\n",
    "KNN__TUNE$finalModel\n",
    "KNN__TUNE$bestTune"
   ]
  }
 ],
 "metadata": {
  "kernelspec": {
   "display_name": "R 4.0.3",
   "language": "R",
   "name": "ir35"
  },
  "language_info": {
   "codemirror_mode": "r",
   "file_extension": ".r",
   "mimetype": "text/x-r-source",
   "name": "R",
   "pygments_lexer": "r",
   "version": "4.0.3"
  }
 },
 "nbformat": 4,
 "nbformat_minor": 4
}
